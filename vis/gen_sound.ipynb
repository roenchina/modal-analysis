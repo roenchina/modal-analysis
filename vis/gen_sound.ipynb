{
 "cells": [
  {
   "cell_type": "code",
   "execution_count": 12,
   "metadata": {},
   "outputs": [],
   "source": [
    "import os\n",
    "import numpy as np\n",
    "\n",
    "\n",
    "# return ksi, omegas, omega_d, freqs\n",
    "def calFreqs(evals, beta, alpha):\n",
    "    num_modes = len(evals)\n",
    "    valid_map = np.zeros(num_modes)\n",
    "    omegas = np.zeros(num_modes)\n",
    "    omega_d = np.zeros(num_modes)\n",
    "    ksi = np.zeros(num_modes)\n",
    "    freqs = np.zeros(num_modes)\n",
    "\n",
    "    for i in range(num_modes):\n",
    "        if (evals[i] < 0):\n",
    "            valid_map[i] = 0\n",
    "            print('evals < 0 at ', i)\n",
    "            continue\n",
    "\n",
    "        omegas[i] = np.sqrt(evals[i])\n",
    "\n",
    "        if (omegas[i] < 100 or omegas[i] > 2e5):\n",
    "            print(f'omegas[{i}] = {omegas[i]} is out of 20hz 20000hz range')\n",
    "            valid_map[i] = 0\n",
    "            continue\n",
    "        \n",
    "        ksi[i] = (beta + alpha * evals[i]) / 2 / omegas[i]\n",
    "        scale = 1 - ksi[i] * ksi[i]\n",
    "        if (scale < 0 ):\n",
    "            valid_map[i] = 0\n",
    "            print('1 - ksi^2 < 0 at', i)\n",
    "            continue\n",
    "\n",
    "        omega_d[i] = omegas[i] * np.sqrt(scale)\n",
    "        freqs[i] = 0.5 * omega_d[i] / np.pi\n",
    "    return ksi, omegas, omega_d, freqs\n",
    "\n",
    "# return mode_sample, samples\n",
    "def genSound(ksi, omegas, omega_d, scales, fs, duration):\n",
    "    num_modes = len(ksi)\n",
    "\n",
    "    time_slot = np.arange(fs * duration) / fs\n",
    "\n",
    "    mode_sample = np.zeros((num_modes, len(time_slot)))\n",
    "    samples = np.zeros(len(time_slot))\n",
    "\n",
    "    for i in range(num_modes):\n",
    "        if(omega_d[i] != 0):\n",
    "            amplitude = np.exp(time_slot * (-1) * ksi[i] * omegas[i]) * abs(scales[i]) / omega_d[i]\n",
    "            mode_sample[i] = (np.sin(omega_d[i] * time_slot ) * amplitude).astype(np.float32)\n",
    "            samples += mode_sample[i]\n",
    "    return mode_sample, samples\n",
    "\n",
    "def saveSound(filename, fs, samples):\n",
    "    from scipy.io.wavfile import write\n",
    "    tmp_samples = samples * 1e6\n",
    "    write(filename, fs, tmp_samples)"
   ]
  },
  {
   "cell_type": "code",
   "execution_count": 21,
   "metadata": {},
   "outputs": [],
   "source": [
    "###### Load #####\n",
    "filename = 'T' + '150'\n",
    "# obj_dir = '../DATA/obj/test'\n",
    "gt_dir = '../DATA/eigen'\n",
    "pred_dir = '../DATA/test_results'\n",
    "\n",
    "# obj_file = os.path.join(obj_dir, filename+'.obj')\n",
    "gt_file = os.path.join(gt_dir, filename, 'eigen.npz')\n",
    "pred_file = os.path.join(pred_dir, filename+'.npy')\n",
    "\n",
    "gt_read = np.load(gt_file)\n",
    "gt = gt_read['evals']\n",
    "evecs = gt_read['evecs']\n",
    "pred = np.load(pred_file)\n",
    "pred = pred * 1e9"
   ]
  },
  {
   "cell_type": "code",
   "execution_count": 22,
   "metadata": {},
   "outputs": [
    {
     "data": {
      "text/plain": [
       "array([2.77270423e-07, 3.08779589e-07, 6.04673655e-07, 1.01796091e+08,\n",
       "       1.02256900e+08, 1.20542183e+08, 1.50786518e+08, 1.57545647e+08,\n",
       "       1.69095906e+08, 1.74934536e+08, 1.82887961e+08, 1.94194548e+08,\n",
       "       1.99442221e+08, 2.06463382e+08, 2.20355984e+08, 2.39297608e+08,\n",
       "       2.46709645e+08, 2.60106453e+08, 3.57675616e+08, 3.67474540e+08,\n",
       "       3.82717402e+08, 6.30584861e+08, 6.33712903e+08, 7.00295359e+08,\n",
       "       7.64963805e+08, 7.83296751e+08, 9.11759142e+08, 1.02631664e+09,\n",
       "       1.04760981e+09, 1.06213293e+09, 1.07061276e+09, 1.12415769e+09,\n",
       "       1.17084191e+09, 1.20656914e+09, 1.26812151e+09, 1.33222807e+09,\n",
       "       1.40565478e+09, 1.48934108e+09, 1.51659038e+09, 1.54913079e+09,\n",
       "       1.59211577e+09, 1.69061335e+09, 1.84115381e+09, 1.87841304e+09,\n",
       "       1.93075648e+09, 1.98223586e+09, 2.07322656e+09, 2.13665184e+09,\n",
       "       2.21445166e+09, 2.31139108e+09])"
      ]
     },
     "execution_count": 22,
     "metadata": {},
     "output_type": "execute_result"
    }
   ],
   "source": [
    "gt"
   ]
  },
  {
   "cell_type": "code",
   "execution_count": 23,
   "metadata": {},
   "outputs": [
    {
     "data": {
      "text/plain": [
       "array([-1.11790984e+05,  7.18412891e+04, -6.92775500e+05,  8.56108400e+07,\n",
       "        8.88298080e+07,  9.89273280e+07,  1.33951504e+08,  1.40725888e+08,\n",
       "        1.52406928e+08,  2.08882752e+08,  2.19002928e+08,  2.33517440e+08,\n",
       "        2.61161120e+08,  2.73239200e+08,  2.89868448e+08,  3.26664672e+08,\n",
       "        3.41445120e+08,  3.74266688e+08,  4.60015520e+08,  4.80016576e+08,\n",
       "        5.25566752e+08,  6.16252672e+08,  6.48533120e+08,  6.95567808e+08,\n",
       "        8.05136768e+08,  8.44416064e+08,  9.06888000e+08,  1.00822662e+09,\n",
       "        1.04789254e+09,  1.10412326e+09,  1.17635354e+09,  1.23406285e+09,\n",
       "        1.29101274e+09,  1.36808358e+09,  1.41868659e+09,  1.49765837e+09,\n",
       "        1.55691866e+09,  1.61526618e+09,  1.68541978e+09,  1.76408307e+09,\n",
       "        1.80786509e+09,  1.86668646e+09,  1.93376166e+09,  2.00944922e+09,\n",
       "        2.09374592e+09,  2.16536038e+09,  2.23421466e+09,  2.30857728e+09,\n",
       "        2.39475149e+09,  2.47483802e+09], dtype=float32)"
      ]
     },
     "execution_count": 23,
     "metadata": {},
     "output_type": "execute_result"
    }
   ],
   "source": [
    "pred"
   ]
  },
  {
   "cell_type": "code",
   "execution_count": 24,
   "metadata": {},
   "outputs": [
    {
     "data": {
      "image/png": "[encoded data removed]",
      "text/plain": [
       "<Figure size 360x360 with 1 Axes>"
      ]
     },
     "metadata": {},
     "output_type": "display_data"
    }
   ],
   "source": [
    "import matplotlib.pyplot as plt\n",
    "plt.style.use('seaborn')\n",
    "plt.figure(figsize=(5,5))\n",
    "# 绘图\n",
    "plt.scatter(gt, # x轴数据为汽车速度\n",
    "            pred, # y轴数据为汽车的刹车距离\n",
    "            s = 60, # 设置点的大小 \n",
    "            c = 'steelblue', # 设置点的颜色\n",
    "            # marker = 's', # 设置点的形状\n",
    "            alpha = 0.8, # 设置点的透明度\n",
    "            linewidths = 0.3, # 设置散点边界的粗细、\n",
    "            edgecolors = 'white' # 设置散点边界的颜色\n",
    "            )\n",
    "\n",
    "ax = plt.gca()\n",
    "ax.set_aspect(1)\n",
    "plt.xlabel('Ground Truth (eigen value)')\n",
    "plt.ylabel('Predition')\n",
    "\n",
    "plt.show()"
   ]
  },
  {
   "cell_type": "code",
   "execution_count": 25,
   "metadata": {},
   "outputs": [
    {
     "name": "stdout",
     "output_type": "stream",
     "text": [
      "evals < 0 at  0\n",
      "evals < 0 at  2\n",
      "omegas[0] = 0.0005265647375101811 is out of 20hz 20000hz range\n",
      "omegas[1] = 0.0005556793941363074 is out of 20hz 20000hz range\n",
      "omegas[2] = 0.0007776076483188212 is out of 20hz 20000hz range\n"
     ]
    }
   ],
   "source": [
    "###### Cal Freqs #####\n",
    "pd_ksi, pd_omegas, pd_omega_d, pd_freqs = calFreqs(pred, beta=5.0, alpha=1e-7)\n",
    "gt_ksi, gt_omegas, gt_omega_d, gt_freqs = calFreqs(gt, beta=5.0, alpha=1e-7)"
   ]
  },
  {
   "cell_type": "code",
   "execution_count": 26,
   "metadata": {},
   "outputs": [],
   "source": [
    "###### Set Force #####\n",
    "contact_pos = 196\n",
    "contact_force = [0, 10, 0]\n",
    "scales = np.zeros(50)\n",
    "for dir in range(3):\n",
    "    scales += contact_force[dir] * evecs[3*contact_pos + dir]\n"
   ]
  },
  {
   "cell_type": "code",
   "execution_count": 27,
   "metadata": {},
   "outputs": [],
   "source": [
    "###### Save as file #####\n",
    "duration = 3\n",
    "fs = 44100\n",
    "gt_mode_sample, gt_sample = genSound(gt_ksi, gt_omegas, gt_omega_d, scales, fs, duration)\n",
    "pd_mode_sample, pd_sample = genSound(pd_ksi, pd_omegas, pd_omega_d, scales, fs, duration)\n",
    "\n",
    "saveSound(os.path.join('./EXP/', filename+'_gt.wav'), fs, gt_sample)\n",
    "saveSound(os.path.join('./EXP/', filename+'_test.wav'), fs, gt_sample)"
   ]
  }
 ],
 "metadata": {
  "interpreter": {
   "hash": "23248286c38324c79c912bdc75eb1b9017aad5637c4fe83ce2a701dfbf548004"
  },
  "kernelspec": {
   "display_name": "Python 3.7.7 ('modaldemo')",
   "language": "python",
   "name": "python3"
  },
  "language_info": {
   "codemirror_mode": {
    "name": "ipython",
    "version": 3
   },
   "file_extension": ".py",
   "mimetype": "text/x-python",
   "name": "python",
   "nbconvert_exporter": "python",
   "pygments_lexer": "ipython3",
   "version": "3.7.7"
  },
  "orig_nbformat": 4
 },
 "nbformat": 4,
 "nbformat_minor": 2
}
