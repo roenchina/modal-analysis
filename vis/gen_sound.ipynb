{
 "cells": [
  {
   "cell_type": "code",
   "execution_count": 1,
   "metadata": {},
   "outputs": [],
   "source": [
    "import os\n",
    "import numpy as np\n",
    "\n",
    "\n",
    "# return ksi, omegas, omega_d, freqs\n",
    "def calFreqs(evals, beta, alpha):\n",
    "    num_modes = len(evals)\n",
    "    valid_map = np.zeros(num_modes)\n",
    "    omegas = np.zeros(num_modes)\n",
    "    omega_d = np.zeros(num_modes)\n",
    "    ksi = np.zeros(num_modes)\n",
    "    freqs = np.zeros(num_modes)\n",
    "\n",
    "    for i in range(num_modes):\n",
    "        if (evals[i] < 0):\n",
    "            valid_map[i] = 0\n",
    "            print('evals < 0 at ', i)\n",
    "            continue\n",
    "\n",
    "        omegas[i] = np.sqrt(evals[i])\n",
    "\n",
    "        if (omegas[i] < 100 or omegas[i] > 2e5):\n",
    "            print(f'omegas[{i}] = {omegas[i]} is out of 20hz 20000hz range')\n",
    "            valid_map[i] = 0\n",
    "            continue\n",
    "        \n",
    "        ksi[i] = (beta + alpha * evals[i]) / 2 / omegas[i]\n",
    "        scale = 1 - ksi[i] * ksi[i]\n",
    "        if (scale < 0 ):\n",
    "            valid_map[i] = 0\n",
    "            print('1 - ksi^2 < 0 at', i)\n",
    "            continue\n",
    "\n",
    "        omega_d[i] = omegas[i] * np.sqrt(scale)\n",
    "        freqs[i] = 0.5 * omega_d[i] / np.pi\n",
    "    return ksi, omegas, omega_d, freqs\n",
    "\n",
    "# return mode_sample, samples\n",
    "def genSound(ksi, omegas, omega_d, scales, fs, duration):\n",
    "    num_modes = len(ksi)\n",
    "\n",
    "    time_slot = np.arange(fs * duration) / fs\n",
    "\n",
    "    mode_sample = np.zeros((num_modes, len(time_slot)))\n",
    "    samples = np.zeros(len(time_slot))\n",
    "\n",
    "    for i in range(num_modes):\n",
    "        if(omega_d[i] != 0):\n",
    "            amplitude = np.exp(time_slot * (-1) * ksi[i] * omegas[i]) * abs(scales[i]) / omega_d[i]\n",
    "            mode_sample[i] = (np.sin(omega_d[i] * time_slot ) * amplitude).astype(np.float32)\n",
    "            samples += mode_sample[i]\n",
    "    return mode_sample, samples\n",
    "\n",
    "def saveSound(filename, fs, samples):\n",
    "    from scipy.io.wavfile import write\n",
    "    tmp_samples = samples * 1e6\n",
    "    write(filename, fs, tmp_samples)"
   ]
  },
  {
   "cell_type": "code",
   "execution_count": 2,
   "metadata": {},
   "outputs": [],
   "source": [
    "###### Load #####\n",
    "filename = 'T' + '104'\n",
    "# obj_dir = '../DATA/obj/test'\n",
    "gt_dir = '../DATA/eigen'\n",
    "pred_dir = '../DATA/test_results'\n",
    "\n",
    "# obj_file = os.path.join(obj_dir, filename+'.obj')\n",
    "gt_file = os.path.join(gt_dir, filename, 'eigen.npz')\n",
    "pred_file = os.path.join(pred_dir, filename+'.npy')\n",
    "\n",
    "gt_read = np.load(gt_file)\n",
    "gt = gt_read['evals']\n",
    "evecs = gt_read['evecs']\n",
    "pred = np.load(pred_file)\n",
    "pred = pred * 1e9"
   ]
  },
  {
   "cell_type": "code",
   "execution_count": 3,
   "metadata": {},
   "outputs": [
    {
     "data": {
      "image/png": "[encoded data removed]",
      "text/plain": [
       "<Figure size 360x360 with 1 Axes>"
      ]
     },
     "metadata": {},
     "output_type": "display_data"
    }
   ],
   "source": [
    "import matplotlib.pyplot as plt\n",
    "plt.style.use('seaborn')\n",
    "plt.figure(figsize=(5,5))\n",
    "# 绘图\n",
    "plt.scatter(gt, # x轴数据为汽车速度\n",
    "            pred, # y轴数据为汽车的刹车距离\n",
    "            s = 60, # 设置点的大小 \n",
    "            c = 'steelblue', # 设置点的颜色\n",
    "            # marker = 's', # 设置点的形状\n",
    "            alpha = 0.8, # 设置点的透明度\n",
    "            linewidths = 0.3, # 设置散点边界的粗细、\n",
    "            edgecolors = 'white' # 设置散点边界的颜色\n",
    "            )\n",
    "\n",
    "ax = plt.gca()\n",
    "ax.set_aspect(1)\n",
    "plt.xlabel('Ground Truth (eigen value)')\n",
    "plt.ylabel('Predition')\n",
    "\n",
    "plt.show()"
   ]
  },
  {
   "cell_type": "code",
   "execution_count": 4,
   "metadata": {},
   "outputs": [
    {
     "name": "stdout",
     "output_type": "stream",
     "text": [
      "evals < 0 at  1\n",
      "evals < 0 at  2\n"
     ]
    }
   ],
   "source": [
    "###### Cal Freqs #####\n",
    "pd_ksi, pd_omegas, pd_omega_d, pd_freqs = calFreqs(pred, beta=5.0, alpha=1e-7)"
   ]
  },
  {
   "cell_type": "code",
   "execution_count": 5,
   "metadata": {},
   "outputs": [
    {
     "name": "stdout",
     "output_type": "stream",
     "text": [
      "evals < 0 at  0\n",
      "omegas[1] = 0.00039233433785822814 is out of 20hz 20000hz range\n",
      "omegas[2] = 0.0004882113058047235 is out of 20hz 20000hz range\n"
     ]
    }
   ],
   "source": [
    "gt_ksi, gt_omegas, gt_omega_d, gt_freqs = calFreqs(gt, beta=5.0, alpha=1e-7)"
   ]
  },
  {
   "cell_type": "code",
   "execution_count": 6,
   "metadata": {},
   "outputs": [
    {
     "data": {
      "text/plain": [
       "array([ 4.16370791e-04,  8.12014880e-03,  8.34841875e-02,  5.38444559e-02,\n",
       "       -4.64088292e-01,  2.40269735e-01,  6.33952606e-02, -3.06713984e-01,\n",
       "        1.39311080e-01,  1.02629859e-03, -2.36149150e-02, -2.95632582e-02,\n",
       "       -2.79399790e-02, -1.40385216e-01,  1.74695526e-01, -4.05092079e-02,\n",
       "       -5.36415002e-01, -2.06414225e-01, -3.52945622e-04, -2.25857067e-01,\n",
       "        2.49616598e-01,  1.65900295e-02,  3.84917756e-02,  1.51944461e-01,\n",
       "        3.54731561e-02, -2.48028763e-02,  3.94392260e-02, -1.17424204e-01,\n",
       "        8.94411347e-02, -1.55666568e-02, -1.18922752e-01, -1.18833122e-01,\n",
       "        5.82852572e-03, -1.54060440e-02,  5.65963544e-02,  4.71856769e-02,\n",
       "        2.47374904e-02, -6.41215402e-02,  3.24658081e-02, -1.19907645e-01,\n",
       "        1.01433823e-01,  3.92856281e-02,  1.25192985e-02, -1.73666626e-01,\n",
       "        2.28151798e-02, -7.69891723e-02, -7.67944988e-02,  8.41125769e-03,\n",
       "       -9.62597757e-03,  5.96239225e-03])"
      ]
     },
     "execution_count": 6,
     "metadata": {},
     "output_type": "execute_result"
    }
   ],
   "source": [
    "###### Set Force #####\n",
    "contact_pos = 695\n",
    "contact_force = [0, -1, 0]\n",
    "scales = np.zeros(50)\n",
    "for dir in range(3):\n",
    "    scales += contact_force[dir] * evecs[3*contact_pos + dir]\n",
    "scales"
   ]
  },
  {
   "cell_type": "code",
   "execution_count": 7,
   "metadata": {},
   "outputs": [],
   "source": [
    "###### Save as file #####\n",
    "duration = 2\n",
    "fs = 44100\n",
    "gt_mode_sample, gt_sample = genSound(gt_ksi, gt_omegas, gt_omega_d, scales, fs, duration)\n",
    "pd_mode_sample, pd_sample = genSound(pd_ksi, pd_omegas, pd_omega_d, scales, fs, duration)\n",
    "\n",
    "saveSound(os.path.join('./EXP/', filename+'-p'+str(contact_pos)+'_gt.wav'), fs, gt_sample)\n",
    "saveSound(os.path.join('./EXP/', filename+'-p'+str(contact_pos)+'_test.wav'), fs, gt_sample)"
   ]
  }
 ],
 "metadata": {
  "interpreter": {
   "hash": "307bc5a6453c1667852f7d2af740f91f665c7da62b8d663f32e8e00e374014d2"
  },
  "kernelspec": {
   "display_name": "Python 3.7.7 ('modaldemo')",
   "language": "python",
   "name": "python3"
  },
  "language_info": {
   "codemirror_mode": {
    "name": "ipython",
    "version": 3
   },
   "file_extension": ".py",
   "mimetype": "text/x-python",
   "name": "python",
   "nbconvert_exporter": "python",
   "pygments_lexer": "ipython3",
   "version": "3.7.7"
  },
  "orig_nbformat": 4
 },
 "nbformat": 4,
 "nbformat_minor": 2
}
