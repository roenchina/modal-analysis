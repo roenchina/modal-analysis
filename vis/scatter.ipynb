{
 "cells": [
  {
   "cell_type": "code",
   "execution_count": 11,
   "metadata": {},
   "outputs": [
    {
     "name": "stderr",
     "output_type": "stream",
     "text": [
      "C:\\Users\\15179\\.conda\\envs\\modaldemo\\lib\\site-packages\\ipykernel_launcher.py:16: RuntimeWarning: invalid value encountered in sqrt\n",
      "  app.launch_new_instance()\n",
      "C:\\Users\\15179\\.conda\\envs\\modaldemo\\lib\\site-packages\\ipykernel_launcher.py:17: RuntimeWarning: invalid value encountered in sqrt\n"
     ]
    }
   ],
   "source": [
    "import numpy as np\n",
    "\n",
    "def freq2mel(freq):\n",
    "    return 2596.0 * np.log10(1 + freq / 700.0)\n",
    "\n",
    "filename = 'T' + '448'\n",
    "target_file = '../DATA/eigen/' + filename + '/eigen.npz'\n",
    "pred_file = '../DATA/test_results/' + filename + '.npy'\n",
    "\n",
    "\n",
    "target = np.load(target_file)\n",
    "target = target['evals'] \n",
    "pred = np.load(pred_file) * 1e9\n",
    "\n",
    "\n",
    "target_mel = freq2mel(np.sqrt(target) * 0.5 / np.pi)\n",
    "pred_mel = freq2mel(np.sqrt(pred) * 0.5 / np.pi)\n",
    "\n",
    "# from sklearn.metrics import mean_squared_error\n",
    "# error = mean_squared_error(target, pred)\n"
   ]
  },
  {
   "cell_type": "code",
   "execution_count": 16,
   "metadata": {},
   "outputs": [
    {
     "data": {
      "image/png": "[encoded data removed]",
      "text/plain": [
       "<Figure size 360x360 with 1 Axes>"
      ]
     },
     "metadata": {},
     "output_type": "display_data"
    }
   ],
   "source": [
    "import matplotlib.pyplot as plt\n",
    "# plt.style.use('ggplot')\n",
    "plt.style.use('seaborn')\n",
    "# print(plt.style.available) # 打印样式列表\n",
    "\n",
    "# # 设置中文编码和负号的正常显示\n",
    "# plt.rcParams['font.sans-serif'] = 'Microsoft YaHei'\n",
    "# plt.rcParams['axes.unicode_minus'] = False\n",
    "\n",
    "plt.figure(figsize=(5,5))\n",
    "\n",
    "# 绘图\n",
    "plt.scatter(target, # x轴数据为汽车速度\n",
    "            pred, # y轴数据为汽车的刹车距离\n",
    "            s = 60, # 设置点的大小 \n",
    "            c = 'steelblue', # 设置点的颜色\n",
    "            # marker = 's', # 设置点的形状\n",
    "            alpha = 0.8, # 设置点的透明度\n",
    "            linewidths = 0.3, # 设置散点边界的粗细、\n",
    "            edgecolors = 'white' # 设置散点边界的颜色\n",
    "            )\n",
    "\n",
    "ax = plt.gca()\n",
    "ax.set_aspect(1)\n",
    "\n",
    "# 添加轴标签和标题plt.title('汽车速度与刹车距离的关系')\n",
    "plt.xlabel('Ground Truth (eigen value)')\n",
    "plt.ylabel('Predition')\n",
    "\n",
    "# 去除图边框的顶部刻度和右边刻度\n",
    "# plt.tick_params(top = 'off', right = 'off')\n",
    "\n",
    "# 显示图形\n",
    "plt.show()"
   ]
  }
 ],
 "metadata": {
  "interpreter": {
   "hash": "23248286c38324c79c912bdc75eb1b9017aad5637c4fe83ce2a701dfbf548004"
  },
  "kernelspec": {
   "display_name": "Python 3.7.7 ('modaldemo')",
   "language": "python",
   "name": "python3"
  },
  "language_info": {
   "codemirror_mode": {
    "name": "ipython",
    "version": 3
   },
   "file_extension": ".py",
   "mimetype": "text/x-python",
   "name": "python",
   "nbconvert_exporter": "python",
   "pygments_lexer": "ipython3",
   "version": "3.7.7"
  },
  "orig_nbformat": 4
 },
 "nbformat": 4,
 "nbformat_minor": 2
}
