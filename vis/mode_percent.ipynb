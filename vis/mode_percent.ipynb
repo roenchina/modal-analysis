{
 "cells": [
  {
   "cell_type": "markdown",
   "metadata": {},
   "source": [
    "### Mode Statics"
   ]
  },
  {
   "cell_type": "code",
   "execution_count": 2,
   "metadata": {},
   "outputs": [],
   "source": [
    "def getRangeIndex(evals, range_start, range_end):\n",
    "    length = len(evals)\n",
    "    start_idx = -1\n",
    "    end_idx = -1\n",
    "\n",
    "    for i in range(length):\n",
    "        if (evals[i] >= range_start):\n",
    "            if (start_idx == -1):\n",
    "                start_idx = i\n",
    "        if (evals[i] > range_end):\n",
    "            if (end_idx == -1):\n",
    "                end_idx = i\n",
    "\n",
    "        if (start_idx != -1 and end_idx != -1):\n",
    "            break\n",
    "    \n",
    "    if (start_idx != -1 and end_idx == -1):\n",
    "        end_idx = length\n",
    "    return start_idx, end_idx"
   ]
  },
  {
   "cell_type": "code",
   "execution_count": 3,
   "metadata": {},
   "outputs": [],
   "source": [
    "import os\n",
    "import numpy as np\n",
    "import scipy.sparse\n",
    "\n",
    "eigen_path = './DATA/eigen/'\n",
    "file_list = ['T8', 'T128', 'T348', 'T468', 'T588']\n",
    "\n",
    "sample = np.zeros((len(file_list), 100))\n",
    "\n",
    "\n",
    "for i, name in enumerate(file_list):\n",
    "    mass_file = os.path.join(eigen_path, name, 'M_coo.npz')\n",
    "    stiff_file = os.path.join(eigen_path, name, 'K_coo.npz')\n",
    "\n",
    "    M = scipy.sparse.load_npz(mass_file)\n",
    "    K = scipy.sparse.load_npz(stiff_file)\n",
    "\n",
    "    from scipy.sparse.linalg import eigsh\n",
    "    evals, _ = eigsh(A=K, M=M, k=100, which='LM', sigma=0)\n",
    "    sample[i] = evals\n"
   ]
  },
  {
   "cell_type": "code",
   "execution_count": 17,
   "metadata": {},
   "outputs": [
    {
     "name": "stdout",
     "output_type": "stream",
     "text": [
      "[3. 3. 3. 3. 3.]\n",
      "[55. 60. 78. 67. 99.]\n"
     ]
    },
    {
     "name": "stderr",
     "output_type": "stream",
     "text": [
      "C:\\Users\\15179\\.conda\\envs\\modaldemo\\lib\\site-packages\\ipykernel_launcher.py:1: RuntimeWarning: invalid value encountered in sqrt\n",
      "  \"\"\"Entry point for launching an IPython kernel.\n"
     ]
    }
   ],
   "source": [
    "freqs = np.sqrt(sample) * 0.5 / np.pi\n",
    "start_index = np.zeros(len(file_list))\n",
    "end_index = np.zeros(len(file_list))\n",
    "\n",
    "for i in range(len(file_list)):\n",
    "    s, e=getRangeIndex(freqs[i], 20, 10000)\n",
    "    start_index[i] = s\n",
    "    end_index[i] = e\n",
    "\n",
    "print(start_index)\n",
    "print(end_index)"
   ]
  },
  {
   "cell_type": "code",
   "execution_count": 25,
   "metadata": {},
   "outputs": [],
   "source": [
    "percent = np.zeros(100)\n",
    "\n",
    "for modenum in range(100):\n",
    "    rate_sum = 0\n",
    "    for sample_idx in range(len(file_list)):\n",
    "        rate = 0\n",
    "        s = start_index[sample_idx]\n",
    "        e = end_index[sample_idx] - 10\n",
    "\n",
    "        if(modenum >= e):\n",
    "            rate = 1\n",
    "        elif(modenum <= s):\n",
    "            rate = 0\n",
    "        else:\n",
    "            rate = (modenum - s) / (e - s)\n",
    "\n",
    "        # print(f'with {modenum} mode, on sample{sample_idx}, cover_rate={rate}')\n",
    "        rate_sum += rate\n",
    "\n",
    "    rate_sum /= 1.0 * len(file_list)\n",
    "\n",
    "    percent[modenum] = rate_sum"
   ]
  },
  {
   "cell_type": "code",
   "execution_count": 29,
   "metadata": {},
   "outputs": [
    {
     "data": {
      "text/plain": [
       "array([0.        , 0.        , 0.        , 0.        , 0.01812343,\n",
       "       0.03624686, 0.0543703 , 0.07249373, 0.09061716, 0.10874059,\n",
       "       0.12686402, 0.14498746, 0.16311089, 0.18123432, 0.19935775,\n",
       "       0.21748119, 0.23560462, 0.25372805, 0.27185148, 0.28997491,\n",
       "       0.30809835, 0.32622178, 0.34434521, 0.36246864, 0.38059207,\n",
       "       0.39871551, 0.41683894, 0.43496237, 0.4530858 , 0.47120923,\n",
       "       0.48933267, 0.5074561 , 0.52557953, 0.54370296, 0.56182639,\n",
       "       0.57994983, 0.59807326, 0.61619669, 0.63432012, 0.65244356,\n",
       "       0.67056699, 0.68869042, 0.70681385, 0.72493728, 0.74306072,\n",
       "       0.76118415, 0.77454567, 0.7879072 , 0.80126873, 0.81463026,\n",
       "       0.82799178, 0.83709799, 0.8462042 , 0.85531041, 0.86441662,\n",
       "       0.87352283, 0.88262903, 0.89173524, 0.89713775, 0.90254025,\n",
       "       0.90794275, 0.91334526, 0.91874776, 0.92415027, 0.92955277,\n",
       "       0.93495528, 0.94035778, 0.94576029, 0.95116279, 0.95348837,\n",
       "       0.95581395, 0.95813953, 0.96046512, 0.9627907 , 0.96511628,\n",
       "       0.96744186, 0.96976744, 0.97209302, 0.9744186 , 0.97674419,\n",
       "       0.97906977, 0.98139535, 0.98372093, 0.98604651, 0.98837209,\n",
       "       0.99069767, 0.99302326, 0.99534884, 0.99767442, 1.        ,\n",
       "       1.        , 1.        , 1.        , 1.        , 1.        ,\n",
       "       1.        , 1.        , 1.        , 1.        , 1.        ])"
      ]
     },
     "execution_count": 29,
     "metadata": {},
     "output_type": "execute_result"
    }
   ],
   "source": [
    "percent"
   ]
  },
  {
   "cell_type": "markdown",
   "metadata": {},
   "source": [
    "### 折线图"
   ]
  },
  {
   "cell_type": "code",
   "execution_count": 28,
   "metadata": {},
   "outputs": [
    {
     "data": {
      "image/png": "[encoded data removed]",
      "text/plain": [
       "<Figure size 576x396 with 1 Axes>"
      ]
     },
     "metadata": {},
     "output_type": "display_data"
    }
   ],
   "source": [
    "import matplotlib.pyplot as plt\n",
    "plt.style.use('seaborn')\n",
    "\n",
    "x = np.arange(100)\n",
    "\n",
    "fig, ax = plt.subplots()\n",
    "ax.plot(x / 2, percent[:100])\n",
    "\n",
    "ax.set(xlabel='# of modes calculated', ylabel='Cover Rate',\n",
    "    #    title='About as simple as it gets, folks'\n",
    "       )\n",
    "ax.grid(True)\n",
    "\n",
    "plt.show()"
   ]
  }
 ],
 "metadata": {
  "interpreter": {
   "hash": "23248286c38324c79c912bdc75eb1b9017aad5637c4fe83ce2a701dfbf548004"
  },
  "kernelspec": {
   "display_name": "Python 3.7.7 ('modaldemo')",
   "language": "python",
   "name": "python3"
  },
  "language_info": {
   "codemirror_mode": {
    "name": "ipython",
    "version": 3
   },
   "file_extension": ".py",
   "mimetype": "text/x-python",
   "name": "python",
   "nbconvert_exporter": "python",
   "pygments_lexer": "ipython3",
   "version": "3.7.7"
  },
  "orig_nbformat": 4
 },
 "nbformat": 4,
 "nbformat_minor": 2
}
