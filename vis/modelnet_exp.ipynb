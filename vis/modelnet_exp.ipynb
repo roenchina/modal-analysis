{
 "cells": [
  {
   "cell_type": "markdown",
   "metadata": {},
   "source": [
    "### Modal Analysis"
   ]
  },
  {
   "cell_type": "code",
   "execution_count": 8,
   "metadata": {},
   "outputs": [],
   "source": [
    "import numpy as np\n",
    "from numpy.linalg import *\n",
    "import argparse, os\n",
    "import time\n",
    "from configparser import ConfigParser\n",
    "from scipy.linalg import eigh\n",
    "from scipy.sparse import coo_matrix\n",
    "import scipy.sparse\n",
    "\n",
    "from scipy.io.wavfile import write\n",
    "\n",
    "\n",
    "def getSignedTetVolume(ele_points):\n",
    "    point0 = np.resize(ele_points[0], (3, 1))\n",
    "    point1 = np.resize(ele_points[1], (3, 1))\n",
    "    point2 = np.resize(ele_points[2], (3, 1))\n",
    "    point3 = np.resize(ele_points[3], (3, 1))\n",
    "    Dm = np.hstack((point0 - point3, point1 - point3, point2 - point3))\n",
    "    volume = det(Dm) / 6\n",
    "    return volume\n",
    "\n",
    "def getMeshInfo_vtk(filename):\n",
    "    import meshio\n",
    "    mesh = meshio.read(filename)\n",
    "    mesh_points = mesh.points.tolist()\n",
    "    mesh_elements = mesh.cells[0].data.tolist()\n",
    "    return mesh_points, mesh_elements\n",
    "\n",
    "\n",
    "class ModalAnalysis:\n",
    "\n",
    "    def __init__(self) -> None:\n",
    "        pass\n",
    "\n",
    "    def setVtkFile(self, vtk_file):\n",
    "        print(\"[ INFO] Reading mesh info...\")\n",
    "        self.vtk_filepath = vtk_file\n",
    "        self.mesh_points, self.mesh_elements = getMeshInfo_vtk(self.vtk_filepath)\n",
    "        self.num_vtx = len(self.mesh_points)\n",
    "        print('[ INFO] done')\n",
    "\n",
    "    def setMaterial(self, material_file):\n",
    "        # print(\"[ INFO] Reading material file...\", material_file)\n",
    "        cp = ConfigParser()\n",
    "        cp.read(material_file, 'utf-8')\n",
    "        self.material = {}\n",
    "        for key in cp['DEFAULT']:\n",
    "            if(key != 'name'):\n",
    "                self.material[key] = float(cp['DEFAULT'][key])\n",
    "        # print('[ INFO] done')\n",
    "\n",
    "    def setOutputPath(self, output_path):\n",
    "        self.output_path = output_path\n",
    "\n",
    "\n",
    "    def constructM_ori(self):\n",
    "        # print(\"[ INFO] Generating M ori matrix...\")\n",
    "        M_ori = np.zeros((3 * self.num_vtx, 3 * self.num_vtx))\n",
    "        for ele, ele_pts_idx in enumerate(self.mesh_elements):\n",
    "            ele_pts_pos = [self.mesh_points[ele_pts_idx[p]] for p in range(4)]\n",
    "            volume = abs(getSignedTetVolume(ele_pts_pos))\n",
    "            for i in range(4):\n",
    "                for j in range(4):\n",
    "                    for k in range(3):\n",
    "                        I = ele_pts_idx[i]\n",
    "                        J = ele_pts_idx[j]\n",
    "                        M_ori[3*I+k][3*J+k] += 0.05 * self.material['density'] * volume * ( 1 + (i == j))\n",
    "\n",
    "            # if(ele % 50 == 0):\n",
    "                # print(\"at element \", ele)\n",
    "        self.M_ori = M_ori\n",
    "        self.M_coo = coo_matrix(M_ori)\n",
    "        # print('[ INFO] done')\n",
    "\n",
    "    def constructK_ori(self):\n",
    "        # print(\"[ INFO] Generating K ori matrix...\")\n",
    "        K_ori = np.zeros((3 * self.num_vtx, 3 * self.num_vtx))\n",
    "        for ele, ele_pts_idx in enumerate(self.mesh_elements):\n",
    "            ele_pts_pos = [self.mesh_points[ele_pts_idx[p]] for p in range(4)]\n",
    "\n",
    "            # k_i = getElementStiffness(ele_pts_pos, self.material['youngs'], self.material['poisson'])\n",
    "\n",
    "            youngs = self.material['youngs']\n",
    "            poisson = self.material['poisson']\n",
    "\n",
    "            # same as getElementStiffness\n",
    "            lambda_ = youngs * poisson / (1 + poisson) / (1 - 2 * poisson)\n",
    "            mu_ = youngs * 0.5 / (1 + poisson) \n",
    "            mb = np.zeros((4, 4))\n",
    "            for i in range(4):\n",
    "                mb[0][i] = ele_pts_pos[i][0]\n",
    "                mb[1][i] = ele_pts_pos[i][1]\n",
    "                mb[2][i] = ele_pts_pos[i][2]\n",
    "                mb[3][i] = 1\n",
    "            beta_ = np.linalg.inv(mb)\n",
    "\n",
    "            volume = abs(getSignedTetVolume(ele_pts_pos))\n",
    "            \n",
    "            for i in range(4):\n",
    "                for j in range(4):\n",
    "                    for a in range(3):\n",
    "                        for b in range(3):\n",
    "                            value = lambda_ * beta_[i][a] * beta_[j][b]\n",
    "                            if ( a == b ):\n",
    "                                sum_ = 0\n",
    "                                for k in range(3):\n",
    "                                    sum_ += beta_[i][k] * beta_[j][k]\n",
    "                                value += mu_ * sum_\n",
    "                            value *= 0.5 * volume\n",
    "\n",
    "                            I = ele_pts_idx[i]\n",
    "                            J = ele_pts_idx[j]\n",
    "                            K_ori[3*I+a][3*J+b] += value\n",
    "            # if(ele % 50 == 0):\n",
    "                # print(\"at element \", ele)\n",
    "        self.K_ori = K_ori\n",
    "        self.K_coo = coo_matrix(K_ori)\n",
    "        # print('[ INFO] done')\n",
    "\n",
    "    def ged(self, k = 50):\n",
    "        from scipy.sparse.linalg import eigsh\n",
    "        self.evals, self.evecs = eigsh(A = self.K_coo, M = self.M_coo, which='LM', sigma=0, k=k)\n",
    "\n",
    "    def saveMK_npz(self):\n",
    "        print('[ INFO] saving Mass & Stiff matrix to' + self.output_path)\n",
    "        # np.savez(os.path.join(self.output_path, 'dense_MK.npz'), mass=self.M_ori, stiff=self.K_ori)\n",
    "        scipy.sparse.save_npz(os.path.join(self.output_path, './M_coo.npz'), self.M_coo)\n",
    "        scipy.sparse.save_npz(os.path.join(self.output_path, './K_coo.npz'), self.K_coo)\n",
    "        print('[ INFO] done')\n",
    "\n",
    "    def saveEigen(self):\n",
    "        print('[ INFO] saving Mass & Stiff matrix to' + self.output_path)\n",
    "        np.savez(os.path.join(self.output_path, 'eigen.npz'), evals=self.evals, evecs=self.evecs)\n"
   ]
  },
  {
   "cell_type": "code",
   "execution_count": 217,
   "metadata": {},
   "outputs": [],
   "source": [
    "material_id = 0\n",
    "\n",
    "filename = 'bottle11'\n",
    "outputpath = os.path.join('./EXP/modelnet/', filename, str(material_id))\n",
    "inputpath = os.path.join('./EXP/modelnet/', filename, filename+'.vtk')"
   ]
  },
  {
   "cell_type": "code",
   "execution_count": 218,
   "metadata": {},
   "outputs": [
    {
     "name": "stdout",
     "output_type": "stream",
     "text": [
      "[ INFO] Reading mesh info...\n",
      "[ INFO] done\n",
      "[ INFO] saving Mass & Stiff matrix to./EXP/modelnet/bottle11\\0\n",
      "[ PROFILE] M   2.123480796813965\n",
      "[ PROFILE] K   8.219257354736328\n",
      "[ PROFILE] GED 9.864937543869019\n"
     ]
    }
   ],
   "source": [
    "ma = ModalAnalysis()\n",
    "material_path = '../material/material-{}.cfg'.format(material_id)\n",
    "ma.setVtkFile(inputpath)\n",
    "ma.setMaterial(material_path)\n",
    "ma.setOutputPath(outputpath)\n",
    "\n",
    "TIME_0 = time.time()\n",
    "ma.constructM_ori()\n",
    "TIME_1 = time.time()\n",
    "ma.constructK_ori()\n",
    "TIME_2 = time.time()\n",
    "ma.ged(k=100)\n",
    "TIME_3 = time.time()\n",
    "ma.saveEigen()\n",
    "\n",
    "print('[ PROFILE] M  ', TIME_1 - TIME_0)\n",
    "print('[ PROFILE] K  ', TIME_2 - TIME_0)\n",
    "print('[ PROFILE] GED', TIME_3 - TIME_0)"
   ]
  },
  {
   "cell_type": "markdown",
   "metadata": {},
   "source": [
    "### Load Eigen values and vectors"
   ]
  },
  {
   "cell_type": "code",
   "execution_count": 12,
   "metadata": {},
   "outputs": [],
   "source": [
    "import os\n",
    "import numpy as np\n",
    "\n",
    "\n",
    "# return ksi, omegas, omega_d, freqs\n",
    "def calFreqs(evals, beta, alpha):\n",
    "    num_modes = len(evals)\n",
    "    valid_map = np.zeros(num_modes)\n",
    "    omegas = np.zeros(num_modes)\n",
    "    omega_d = np.zeros(num_modes)\n",
    "    ksi = np.zeros(num_modes)\n",
    "    freqs = np.zeros(num_modes)\n",
    "\n",
    "    for i in range(num_modes):\n",
    "        if (evals[i] < 0):\n",
    "            valid_map[i] = 0\n",
    "            print('evals < 0 at ', i)\n",
    "            continue\n",
    "\n",
    "        omegas[i] = np.sqrt(evals[i])\n",
    "\n",
    "        if (omegas[i] < 100 or omegas[i] > 2e5):\n",
    "            print(f'omegas[{i}] = {omegas[i]} is out of 20hz 20000hz range')\n",
    "            valid_map[i] = 0\n",
    "            continue\n",
    "        \n",
    "        ksi[i] = (beta + alpha * evals[i]) / 2 / omegas[i]\n",
    "        scale = 1 - ksi[i] * ksi[i]\n",
    "        if (scale < 0 ):\n",
    "            valid_map[i] = 0\n",
    "            print('1 - ksi^2 < 0 at', i)\n",
    "            continue\n",
    "\n",
    "        omega_d[i] = omegas[i] * np.sqrt(scale)\n",
    "        freqs[i] = 0.5 * omega_d[i] / np.pi\n",
    "    return ksi, omegas, omega_d, freqs\n",
    "\n",
    "# return mode_sample, samples\n",
    "def genSound(ksi, omegas, omega_d, activation, fs, duration):\n",
    "    num_modes = len(ksi)\n",
    "\n",
    "    time_slot = np.arange(fs * duration) / fs\n",
    "\n",
    "    mode_sample = np.zeros((num_modes, len(time_slot)))\n",
    "    samples = np.zeros(len(time_slot))\n",
    "\n",
    "    for i in range(num_modes):\n",
    "        if(omega_d[i] != 0):\n",
    "            amplitude = np.exp(time_slot * (-1) * ksi[i] * omegas[i]) * abs(activation[i]) / omega_d[i]\n",
    "            mode_sample[i] = (np.sin(omega_d[i] * time_slot ) * amplitude).astype(np.float32)\n",
    "            samples += mode_sample[i]\n",
    "    return mode_sample, samples\n",
    "\n",
    "def saveSound(filename, fs, samples):\n",
    "    from scipy.io.wavfile import write\n",
    "    tmp_samples = samples * 1e6\n",
    "    write(filename, fs, tmp_samples)"
   ]
  },
  {
   "cell_type": "code",
   "execution_count": 219,
   "metadata": {},
   "outputs": [
    {
     "name": "stdout",
     "output_type": "stream",
     "text": [
      "5.0 1e-07\n",
      "evals < 0 at  0\n",
      "omegas[1] = 0.00103909231060257 is out of 20hz 20000hz range\n",
      "omegas[2] = 0.0023379927381603806 is out of 20hz 20000hz range\n",
      "omegas[72] = 201066.44608752136 is out of 20hz 20000hz range\n",
      "omegas[73] = 201611.5350315079 is out of 20hz 20000hz range\n",
      "omegas[74] = 202160.3347766367 is out of 20hz 20000hz range\n",
      "omegas[75] = 204079.04803648542 is out of 20hz 20000hz range\n",
      "omegas[76] = 204620.0056847695 is out of 20hz 20000hz range\n",
      "omegas[77] = 210845.7865653752 is out of 20hz 20000hz range\n",
      "omegas[78] = 211308.2902489214 is out of 20hz 20000hz range\n",
      "omegas[79] = 212097.8916148654 is out of 20hz 20000hz range\n",
      "omegas[80] = 215261.97495844623 is out of 20hz 20000hz range\n",
      "omegas[81] = 216149.72176216677 is out of 20hz 20000hz range\n",
      "omegas[82] = 217264.00266630814 is out of 20hz 20000hz range\n",
      "omegas[83] = 218141.9174594845 is out of 20hz 20000hz range\n",
      "omegas[84] = 218694.66582076764 is out of 20hz 20000hz range\n",
      "omegas[85] = 219673.93575119346 is out of 20hz 20000hz range\n",
      "omegas[86] = 220288.24231665028 is out of 20hz 20000hz range\n",
      "omegas[87] = 222816.22870319974 is out of 20hz 20000hz range\n",
      "omegas[88] = 223063.17097276656 is out of 20hz 20000hz range\n",
      "omegas[89] = 232453.43469722613 is out of 20hz 20000hz range\n",
      "omegas[90] = 233818.4140965041 is out of 20hz 20000hz range\n",
      "omegas[91] = 234384.9895484587 is out of 20hz 20000hz range\n",
      "omegas[92] = 235088.34067156268 is out of 20hz 20000hz range\n",
      "omegas[93] = 235744.72326729534 is out of 20hz 20000hz range\n",
      "omegas[94] = 236720.79197965955 is out of 20hz 20000hz range\n",
      "omegas[95] = 237705.77905900357 is out of 20hz 20000hz range\n",
      "omegas[96] = 240551.64104397618 is out of 20hz 20000hz range\n",
      "omegas[97] = 241186.04920305958 is out of 20hz 20000hz range\n",
      "omegas[98] = 242706.83123596702 is out of 20hz 20000hz range\n",
      "omegas[99] = 244258.97730815402 is out of 20hz 20000hz range\n"
     ]
    }
   ],
   "source": [
    "eigen_file = np.load(os.path.join(outputpath, 'eigen.npz'))\n",
    "evals = eigen_file['evals']\n",
    "evecs = eigen_file['evecs']\n",
    "\n",
    "BETA = ma.material['beta']\n",
    "ALPHA = ma.material['alpha']\n",
    "print(BETA, ALPHA)\n",
    "ksi, omegas, omega_d, freqs = calFreqs(evals, beta=BETA, alpha=ALPHA)"
   ]
  },
  {
   "cell_type": "code",
   "execution_count": 220,
   "metadata": {},
   "outputs": [],
   "source": [
    "ksi_2 = ksi\n",
    "omegas_2 = omegas\n",
    "omega_d_2 = omega_d\n",
    "freqs_2 = freqs"
   ]
  },
  {
   "cell_type": "code",
   "execution_count": 221,
   "metadata": {},
   "outputs": [],
   "source": [
    "contact_pos = 8\n",
    "contact_force = [0, 0, 5]\n",
    "activation = np.zeros(100)\n",
    "for dir in range(3):\n",
    "    activation += contact_force[dir] * evecs[3*contact_pos + dir]"
   ]
  },
  {
   "cell_type": "markdown",
   "metadata": {},
   "source": [
    "### Post-process"
   ]
  },
  {
   "cell_type": "code",
   "execution_count": 73,
   "metadata": {},
   "outputs": [],
   "source": [
    "Ceramic =   2700,   7.4E10, 0.19,   5,  1E-7\n",
    "Glass =     2600,   6.2E10, 0.20,   1,  1E-7\n",
    "Wood =      750,    1.1E10, 0.25,   60, 2E-6\n",
    "Plastic =   1070,   1.4E9,  0.35,   30, 1E-6\n",
    "Iron =      8000,   2.1E11, 0.28,   5,  1E-7\n",
    "Polycarb =  1190,   2.4E9,  0.37,   0.5,4E-7\n",
    "Steel =     7850,   2.0E11, 0.29,   5,  3E-8\n",
    "Tin =       7265,   5e10,   0.325,  2,  3E-8\n",
    "\n",
    "def omega_rate(src, target, rescale):\n",
    "    k1 = target[1] / src[1]\n",
    "    k2 = target[0] / src[0]\n",
    "    return k1**0.5*k2**(-0.5)/rescale\n",
    "\n",
    "def activation_rate(src, target, rescale):\n",
    "    k1 = target[1] / src[1]\n",
    "    k2 = target[0] / src[0]\n",
    "    return k2**(-0.5)*rescale**(-3/2)"
   ]
  },
  {
   "cell_type": "code",
   "execution_count": 212,
   "metadata": {},
   "outputs": [
    {
     "name": "stdout",
     "output_type": "stream",
     "text": [
      "0.21849331365778657 1.5885101466409677\n"
     ]
    }
   ],
   "source": [
    "rescale = 1\n",
    "rate_freq = omega_rate(Ceramic, Plastic, rescale)\n",
    "rate_act = activation_rate(Ceramic, Plastic, rescale)\n",
    "print(rate_freq, rate_act)"
   ]
  },
  {
   "cell_type": "code",
   "execution_count": 222,
   "metadata": {},
   "outputs": [],
   "source": [
    "duration = 2\n",
    "fs = 44100\n",
    "_, samples = genSound(ksi, omegas, omega_d, activation, fs, duration)\n",
    "# _, samples = genSound(ksi, omegas, omega_d * rate_freq, activation * rate_act, fs, duration)\n",
    "# _, post_samples_1 = genSound(ksi_2, omegas, omega_d * rate_freq, activation * rate_act, fs, duration)\n",
    "# _, post_samples_2 = genSound(ksi_2, omegas_2, omega_d * rate_freq, activation * rate_act, fs, duration)"
   ]
  },
  {
   "cell_type": "markdown",
   "metadata": {},
   "source": [
    "### Save Sound"
   ]
  },
  {
   "cell_type": "code",
   "execution_count": 223,
   "metadata": {},
   "outputs": [],
   "source": [
    "saveSound(os.path.join(outputpath, 'p'+str(contact_pos) +'.wav'), fs, samples)\n",
    "# saveSound(os.path.join(outputpath, 'p'+str(contact_pos) +'_post_1.wav'), fs, post_samples_1)\n",
    "# saveSound(os.path.join(outputpath, 'p'+str(contact_pos) +'_post_2.wav'), fs, post_samples_2)"
   ]
  }
 ],
 "metadata": {
  "interpreter": {
   "hash": "307bc5a6453c1667852f7d2af740f91f665c7da62b8d663f32e8e00e374014d2"
  },
  "kernelspec": {
   "display_name": "Python 3.7.7 ('modaldemo')",
   "language": "python",
   "name": "python3"
  },
  "language_info": {
   "codemirror_mode": {
    "name": "ipython",
    "version": 3
   },
   "file_extension": ".py",
   "mimetype": "text/x-python",
   "name": "python",
   "nbconvert_exporter": "python",
   "pygments_lexer": "ipython3",
   "version": "3.7.7"
  },
  "orig_nbformat": 4
 },
 "nbformat": 4,
 "nbformat_minor": 2
}
