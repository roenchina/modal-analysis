{
 "cells": [
  {
   "cell_type": "code",
   "execution_count": null,
   "metadata": {},
   "outputs": [],
   "source": [
    "#import the pyplot and wavfile modules\n",
    "import matplotlib.pyplot as plt\n",
    "from scipy.io import wavfile\n",
    "phase='gt'\n",
    "obj_id = '150'\n",
    "pos_id = '196-f0.1.0'\n",
    "\n",
    "file_name = 'T' + obj_id\n",
    "file = './EXP/' + file_name + '/p' + pos_id + '/' + file_name + '-p' + pos_id + '_' + phase + '.wav'\n",
    "samplingFrequency, signalData = wavfile.read(file)\n",
    "\n",
    "plt.figure(figsize=(8,8))\n",
    "\n",
    "plt.subplot(211)\n",
    "plt.title('Spectrogram')\n",
    "plt.plot(signalData)\n",
    "plt.xlabel('Sample')\n",
    "plt.ylabel('Amplitude')\n",
    "\n",
    "plt.subplot(212)\n",
    "plt.specgram(signalData, Fs=samplingFrequency)\n",
    "# plt.specgram(signalData, Fs=samplingFrequency, scale_by_freq=True)\n",
    "plt.xlabel('Time')\n",
    "plt.ylabel('Frequency')\n",
    "\n",
    "plt.show()"
   ]
  }
 ],
 "metadata": {
  "interpreter": {
   "hash": "307bc5a6453c1667852f7d2af740f91f665c7da62b8d663f32e8e00e374014d2"
  },
  "kernelspec": {
   "display_name": "Python 3.7.7 ('modaldemo')",
   "language": "python",
   "name": "python3"
  },
  "language_info": {
   "codemirror_mode": {
    "name": "ipython",
    "version": 3
   },
   "file_extension": ".py",
   "mimetype": "text/x-python",
   "name": "python",
   "nbconvert_exporter": "python",
   "pygments_lexer": "ipython3",
   "version": "3.7.7"
  },
  "orig_nbformat": 4
 },
 "nbformat": 4,
 "nbformat_minor": 2
}
